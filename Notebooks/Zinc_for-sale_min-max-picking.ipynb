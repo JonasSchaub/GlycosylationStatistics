{
 "cells": [
  {
   "cell_type": "code",
   "execution_count": 15,
   "metadata": {},
   "outputs": [],
   "source": [
    "from rdkit import Chem\n",
    "from rdkit.Chem.rdMolDescriptors import GetMorganFingerprint\n",
    "from rdkit import DataStructs\n",
    "from rdkit.SimDivFilters.rdSimDivPickers import MaxMinPicker"
   ]
  },
  {
   "cell_type": "code",
   "execution_count": 16,
   "metadata": {},
   "outputs": [],
   "source": [
    "def distij(i,j,fps=fps):\n",
    "    return 1-DataStructs.DiceSimilarity(fps[i],fps[j])"
   ]
  },
  {
   "cell_type": "markdown",
   "metadata": {},
   "source": [
    "http://www.rdkit.org/docs/GettingStartedInPython.html#picking-diverse-molecules-using-fingerprints "
   ]
  },
  {
   "cell_type": "code",
   "execution_count": 17,
   "metadata": {},
   "outputs": [],
   "source": [
    "suppl = Chem.SmilesMolSupplier('ZINC_for-sale_subset_2020_Okt_19.txt')"
   ]
  },
  {
   "cell_type": "code",
   "execution_count": 18,
   "metadata": {},
   "outputs": [
    {
     "name": "stdout",
     "output_type": "stream",
     "text": [
      "1000000\n"
     ]
    }
   ],
   "source": [
    "ms = []\n",
    "for x in range(0,1000000):\n",
    "    mol = suppl[x]\n",
    "    if mol is None: continue\n",
    "    ms.append(mol)\n",
    "#while ms.count(None): ms.remove(None)\n",
    "fps = [GetMorganFingerprint(x,3) for x in ms]\n",
    "nfps = len(fps)\n",
    "print(nfps)"
   ]
  },
  {
   "cell_type": "code",
   "execution_count": null,
   "metadata": {},
   "outputs": [],
   "source": [
    "picker = MaxMinPicker()\n",
    "pickIndices = picker.LazyPick(distij,nfps,500000,seed=23)\n",
    "writer = Chem.SmilesWriter('output/ZINC_for-sale_picked_subset.txt')\n",
    "for x in pickIndices:\n",
    "    writer.write(ms[x])"
   ]
  },
  {
   "cell_type": "code",
   "execution_count": null,
   "metadata": {},
   "outputs": [],
   "source": []
  }
 ],
 "metadata": {
  "kernelspec": {
   "display_name": "my-rdkit-env",
   "language": "python",
   "name": "my-rdkit-env"
  },
  "language_info": {
   "codemirror_mode": {
    "name": "ipython",
    "version": 3
   },
   "file_extension": ".py",
   "mimetype": "text/x-python",
   "name": "python",
   "nbconvert_exporter": "python",
   "pygments_lexer": "ipython3",
   "version": "3.7.4"
  }
 },
 "nbformat": 4,
 "nbformat_minor": 2
}
